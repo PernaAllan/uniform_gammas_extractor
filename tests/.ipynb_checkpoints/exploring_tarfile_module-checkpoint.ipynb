{
 "cells": [
  {
   "cell_type": "code",
   "execution_count": 1,
   "id": "e0784776-91a3-489d-a217-2a7f4f376b1f",
   "metadata": {},
   "outputs": [],
   "source": [
    "import os\n",
    "import tarfile\n",
    "import re # is a built-in module used for regular expressions in Python, \n",
    "          # allowing for pattern matching and string manipulation.\n",
    "\n",
    "\n",
    "tgz_path = '/lustre06/project/6084498/dnn/data/all_gammas.tgz'\n",
    "common_dir = '/lustre06/project/6084498/dnn/data/'\n",
    "\n"
   ]
  },
  {
   "cell_type": "code",
   "execution_count": 2,
   "id": "81240741-bdaa-4c65-a05d-6e4d55317673",
   "metadata": {},
   "outputs": [],
   "source": [
    "categories = {\n",
    "    \"uniform_gammas_base_group\": re.compile(r'^uniform_gammas/uniform_gammas_100k_group\\d+\\.hdf5$'),\n",
    "    \"uniform_gammas_base_group_FVGains\": re.compile(r'^uniform_gammas/uniform_gammas_100k_group\\d+_fvgains\\.rpk\\.hdf5$'),\n",
    "    \"uniform_gammas_noel\": re.compile(r'^uniform_gammas/uniform_gammas_noel_100k_group\\d+\\.hdf5$'),\n",
    "    \"uniform_gammas_noel_FVGains\": re.compile(r'^uniform_gammas/uniform_gammas_noel_100k_group\\d+_fvgains\\.rpk\\.hdf5$')\n",
    "}"
   ]
  },
  {
   "cell_type": "code",
   "execution_count": 6,
   "id": "17362e83-6187-404b-be8b-7bc35e0a7ef9",
   "metadata": {},
   "outputs": [
    {
     "data": {
      "text/plain": [
       "dict_items([('uniform_gammas_base_group', re.compile('^uniform_gammas/uniform_gammas_100k_group\\\\d+\\\\.hdf5$')), ('uniform_gammas_base_group_FVGains', re.compile('^uniform_gammas/uniform_gammas_100k_group\\\\d+_fvgains\\\\.rpk\\\\.hdf5$')), ('uniform_gammas_noel', re.compile('^uniform_gammas/uniform_gammas_noel_100k_group\\\\d+\\\\.hdf5$')), ('uniform_gammas_noel_FVGains', re.compile('^uniform_gammas/uniform_gammas_noel_100k_group\\\\d+_fvgains\\\\.rpk\\\\.hdf5$'))])"
      ]
     },
     "execution_count": 6,
     "metadata": {},
     "output_type": "execute_result"
    }
   ],
   "source": [
    "categories.items()"
   ]
  },
  {
   "cell_type": "code",
   "execution_count": 4,
   "id": "3a73c1ac-84b6-42ff-8847-38cbabe37df9",
   "metadata": {},
   "outputs": [
    {
     "data": {
      "text/plain": [
       "re.compile(r'^uniform_gammas/uniform_gammas_100k_group\\d+\\.hdf5$', re.UNICODE)"
      ]
     },
     "execution_count": 4,
     "metadata": {},
     "output_type": "execute_result"
    }
   ],
   "source": [
    "categories['uniform_gammas_base_group']"
   ]
  },
  {
   "cell_type": "code",
   "execution_count": 5,
   "id": "5e799845-99a3-4151-b6a7-47a80b2eec0d",
   "metadata": {},
   "outputs": [
    {
     "ename": "TypeError",
     "evalue": "'re.Pattern' object is not iterable",
     "output_type": "error",
     "traceback": [
      "\u001b[0;31m---------------------------------------------------------------------------\u001b[0m",
      "\u001b[0;31mTypeError\u001b[0m                                 Traceback (most recent call last)",
      "Cell \u001b[0;32mIn[5], line 1\u001b[0m\n\u001b[0;32m----> 1\u001b[0m \u001b[38;5;28;43;01mfor\u001b[39;49;00m\u001b[43m \u001b[49m\u001b[43mi\u001b[49m\u001b[43m \u001b[49m\u001b[38;5;129;43;01min\u001b[39;49;00m\u001b[43m \u001b[49m\u001b[43mcategories\u001b[49m\u001b[43m[\u001b[49m\u001b[38;5;124;43m'\u001b[39;49m\u001b[38;5;124;43muniform_gammas_base_group\u001b[39;49m\u001b[38;5;124;43m'\u001b[39;49m\u001b[43m]\u001b[49m\u001b[43m:\u001b[49m\n\u001b[1;32m      2\u001b[0m \u001b[43m    \u001b[49m\u001b[38;5;28;43mprint\u001b[39;49m\u001b[43m(\u001b[49m\u001b[43mi\u001b[49m\u001b[43m)\u001b[49m\n",
      "\u001b[0;31mTypeError\u001b[0m: 're.Pattern' object is not iterable"
     ]
    }
   ],
   "source": [
    "for i in categories['uniform_gammas_base_group']:\n",
    "    print(i)"
   ]
  },
  {
   "cell_type": "code",
   "execution_count": null,
   "id": "e7d9a5dd-3eb2-432c-9b73-4fd55dc6dddb",
   "metadata": {},
   "outputs": [],
   "source": []
  }
 ],
 "metadata": {
  "kernelspec": {
   "display_name": "Python 3 (ipykernel)",
   "language": "python",
   "name": "python3"
  },
  "language_info": {
   "codemirror_mode": {
    "name": "ipython",
    "version": 3
   },
   "file_extension": ".py",
   "mimetype": "text/x-python",
   "name": "python",
   "nbconvert_exporter": "python",
   "pygments_lexer": "ipython3",
   "version": "3.11.5"
  }
 },
 "nbformat": 4,
 "nbformat_minor": 5
}
